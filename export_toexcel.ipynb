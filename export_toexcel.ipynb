{
 "cells": [
  {
   "cell_type": "code",
   "execution_count": 1,
   "metadata": {},
   "outputs": [],
   "source": [
    "import pandas as pd"
   ]
  },
  {
   "cell_type": "code",
   "execution_count": 2,
   "metadata": {},
   "outputs": [],
   "source": [
    "# df = pandas.read_csv('Data_Scraping_Bukalapak_Sepatu.csv')\n",
    "# df.to_excel('Data_Scraping_Bukalapak_Sepatu_.xlsx', index=False)"
   ]
  },
  {
   "cell_type": "code",
   "execution_count": 3,
   "metadata": {},
   "outputs": [
    {
     "name": "stdout",
     "output_type": "stream",
     "text": [
      "https://www.bukalapak.com/products?page=0&search%5Bkeywords%5D=sepatu\n",
      "https://www.bukalapak.com/products?page=1&search%5Bkeywords%5D=sepatu\n",
      "https://www.bukalapak.com/products?page=2&search%5Bkeywords%5D=sepatu\n"
     ]
    }
   ],
   "source": [
    "j = input()\n",
    "j = int(j) + 1\n",
    "for i in range(0,j):\n",
    "    print('https://www.bukalapak.com/products?page='+str(i)+'&search%5Bkeywords%5D=sepatu')"
   ]
  },
  {
   "cell_type": "code",
   "execution_count": 2,
   "metadata": {},
   "outputs": [],
   "source": [
    "# df = pd.read_csv('Data_Scraping_Bukalapak_Sepatu.csv')\n",
    "df = pd.read_csv('ResultScrapingShoes.csv')\n",
    "df.head()\n",
    "df.to_excel('Result.xlsx', index=False)"
   ]
  },
  {
   "cell_type": "code",
   "execution_count": 20,
   "metadata": {},
   "outputs": [
    {
     "data": {
      "text/html": [
       "<div>\n",
       "<style scoped>\n",
       "    .dataframe tbody tr th:only-of-type {\n",
       "        vertical-align: middle;\n",
       "    }\n",
       "\n",
       "    .dataframe tbody tr th {\n",
       "        vertical-align: top;\n",
       "    }\n",
       "\n",
       "    .dataframe thead th {\n",
       "        text-align: right;\n",
       "    }\n",
       "</style>\n",
       "<table border=\"1\" class=\"dataframe\">\n",
       "  <thead>\n",
       "    <tr style=\"text-align: right;\">\n",
       "      <th></th>\n",
       "      <th>Nama_produk</th>\n",
       "      <th>Harga</th>\n",
       "      <th>Nama_toko</th>\n",
       "      <th>Kota</th>\n",
       "      <th>Rating_produk</th>\n",
       "      <th>Produk_terjual</th>\n",
       "    </tr>\n",
       "  </thead>\n",
       "  <tbody>\n",
       "    <tr>\n",
       "      <th>145</th>\n",
       "      <td>CELANA PANJANG PRIA MTAC - CELANA PANJANG TACT...</td>\n",
       "      <td>140000</td>\n",
       "      <td>ABIEL TACTICAL</td>\n",
       "      <td>Kab. Bandung</td>\n",
       "      <td>5.0</td>\n",
       "      <td>4</td>\n",
       "    </tr>\n",
       "    <tr>\n",
       "      <th>146</th>\n",
       "      <td>CELANA PANJANG TACTICAL KITANICA PREMIUM TERBARU</td>\n",
       "      <td>165000</td>\n",
       "      <td>Tactical Blackhawk</td>\n",
       "      <td>Bandung</td>\n",
       "      <td>4.8</td>\n",
       "      <td>221</td>\n",
       "    </tr>\n",
       "    <tr>\n",
       "      <th>147</th>\n",
       "      <td>CELANA PANJANG PRIA JUMBO CELANA CHINO PRIA UK...</td>\n",
       "      <td>123200</td>\n",
       "      <td>CHINOSJUMBO</td>\n",
       "      <td>Semarang</td>\n",
       "      <td>4.7</td>\n",
       "      <td>30</td>\n",
       "    </tr>\n",
       "    <tr>\n",
       "      <th>148</th>\n",
       "      <td>Celana Formal Kantor Kerja Bahan Pria Slimfit ...</td>\n",
       "      <td>49950</td>\n",
       "      <td>Mickonova Store</td>\n",
       "      <td>Pemalang</td>\n",
       "      <td>4.9</td>\n",
       "      <td>2217</td>\n",
       "    </tr>\n",
       "    <tr>\n",
       "      <th>149</th>\n",
       "      <td>Celana Chino Chinos Panjang Pria Polos Katun J...</td>\n",
       "      <td>132000</td>\n",
       "      <td>GALERI_JUMBO</td>\n",
       "      <td>Kab. Pekalongan</td>\n",
       "      <td>4.9</td>\n",
       "      <td>176</td>\n",
       "    </tr>\n",
       "  </tbody>\n",
       "</table>\n",
       "</div>"
      ],
      "text/plain": [
       "                                           Nama_produk   Harga  \\\n",
       "145  CELANA PANJANG PRIA MTAC - CELANA PANJANG TACT...  140000   \n",
       "146   CELANA PANJANG TACTICAL KITANICA PREMIUM TERBARU  165000   \n",
       "147  CELANA PANJANG PRIA JUMBO CELANA CHINO PRIA UK...  123200   \n",
       "148  Celana Formal Kantor Kerja Bahan Pria Slimfit ...   49950   \n",
       "149  Celana Chino Chinos Panjang Pria Polos Katun J...  132000   \n",
       "\n",
       "              Nama_toko             Kota  Rating_produk  Produk_terjual  \n",
       "145      ABIEL TACTICAL     Kab. Bandung            5.0               4  \n",
       "146  Tactical Blackhawk          Bandung            4.8             221  \n",
       "147         CHINOSJUMBO         Semarang            4.7              30  \n",
       "148     Mickonova Store         Pemalang            4.9            2217  \n",
       "149        GALERI_JUMBO  Kab. Pekalongan            4.9             176  "
      ]
     },
     "execution_count": 20,
     "metadata": {},
     "output_type": "execute_result"
    }
   ],
   "source": [
    "df.tail()"
   ]
  },
  {
   "cell_type": "code",
   "execution_count": 21,
   "metadata": {},
   "outputs": [
    {
     "data": {
      "text/plain": [
       "(150, 6)"
      ]
     },
     "execution_count": 21,
     "metadata": {},
     "output_type": "execute_result"
    }
   ],
   "source": [
    "df.shape"
   ]
  },
  {
   "cell_type": "code",
   "execution_count": 22,
   "metadata": {},
   "outputs": [
    {
     "data": {
      "text/plain": [
       "Nama_produk       0\n",
       "Harga             0\n",
       "Nama_toko         0\n",
       "Kota              0\n",
       "Rating_produk     0\n",
       "Produk_terjual    0\n",
       "dtype: int64"
      ]
     },
     "execution_count": 22,
     "metadata": {},
     "output_type": "execute_result"
    }
   ],
   "source": [
    "df.isnull().sum()"
   ]
  },
  {
   "cell_type": "code",
   "execution_count": 9,
   "metadata": {},
   "outputs": [
    {
     "data": {
      "text/html": [
       "<div>\n",
       "<style scoped>\n",
       "    .dataframe tbody tr th:only-of-type {\n",
       "        vertical-align: middle;\n",
       "    }\n",
       "\n",
       "    .dataframe tbody tr th {\n",
       "        vertical-align: top;\n",
       "    }\n",
       "\n",
       "    .dataframe thead th {\n",
       "        text-align: right;\n",
       "    }\n",
       "</style>\n",
       "<table border=\"1\" class=\"dataframe\">\n",
       "  <thead>\n",
       "    <tr style=\"text-align: right;\">\n",
       "      <th></th>\n",
       "      <th>Nama_produk</th>\n",
       "      <th>Harga</th>\n",
       "      <th>Nama_toko</th>\n",
       "      <th>Kota</th>\n",
       "      <th>Rating_produk</th>\n",
       "      <th>Produk_terjual</th>\n",
       "    </tr>\n",
       "  </thead>\n",
       "  <tbody>\n",
       "    <tr>\n",
       "      <th>0</th>\n",
       "      <td>iPhone 11 - Fullset Original Like New - Second...</td>\n",
       "      <td>6200000.0</td>\n",
       "      <td>GOATS</td>\n",
       "      <td>Jakarta Selatan</td>\n",
       "      <td>4.9</td>\n",
       "      <td>2335.0</td>\n",
       "    </tr>\n",
       "    <tr>\n",
       "      <th>1</th>\n",
       "      <td>iPhone 11 Pro - Fullset Original Like New - Se...</td>\n",
       "      <td>8016000.0</td>\n",
       "      <td>GOATS</td>\n",
       "      <td>Jakarta Selatan</td>\n",
       "      <td>4.9</td>\n",
       "      <td>2417.0</td>\n",
       "    </tr>\n",
       "    <tr>\n",
       "      <th>2</th>\n",
       "      <td>iPhone XR - Fullset Original Like New - Second...</td>\n",
       "      <td>4767000.0</td>\n",
       "      <td>GOATS</td>\n",
       "      <td>Jakarta Selatan</td>\n",
       "      <td>4.9</td>\n",
       "      <td>4503.0</td>\n",
       "    </tr>\n",
       "    <tr>\n",
       "      <th>3</th>\n",
       "      <td>iPhone 13 - NEW Fullset Original - Inter / Ibo...</td>\n",
       "      <td>15448000.0</td>\n",
       "      <td>GOATS</td>\n",
       "      <td>Jakarta Selatan</td>\n",
       "      <td>5.0</td>\n",
       "      <td>752.0</td>\n",
       "    </tr>\n",
       "    <tr>\n",
       "      <th>4</th>\n",
       "      <td>iPhone 13 Pro Max - NEW Fullset Original - Int...</td>\n",
       "      <td>19154000.0</td>\n",
       "      <td>GOATS</td>\n",
       "      <td>Jakarta Selatan</td>\n",
       "      <td>5.0</td>\n",
       "      <td>500.0</td>\n",
       "    </tr>\n",
       "    <tr>\n",
       "      <th>...</th>\n",
       "      <td>...</td>\n",
       "      <td>...</td>\n",
       "      <td>...</td>\n",
       "      <td>...</td>\n",
       "      <td>...</td>\n",
       "      <td>...</td>\n",
       "    </tr>\n",
       "    <tr>\n",
       "      <th>115</th>\n",
       "      <td>iPhone 12 Pro Max- Fullset Original Like New -...</td>\n",
       "      <td>13266000.0</td>\n",
       "      <td>GOATS</td>\n",
       "      <td>Jakarta Selatan</td>\n",
       "      <td>5.0</td>\n",
       "      <td>2184.0</td>\n",
       "    </tr>\n",
       "    <tr>\n",
       "      <th>116</th>\n",
       "      <td>iPhone 8 Plus - Fullset Original Like New - Se...</td>\n",
       "      <td>4025000.0</td>\n",
       "      <td>GOATS</td>\n",
       "      <td>Jakarta Selatan</td>\n",
       "      <td>5.0</td>\n",
       "      <td>2185.0</td>\n",
       "    </tr>\n",
       "    <tr>\n",
       "      <th>117</th>\n",
       "      <td>iPhone 7 Plus - Fullset Original Like New - Se...</td>\n",
       "      <td>3258000.0</td>\n",
       "      <td>GOATS</td>\n",
       "      <td>Jakarta Selatan</td>\n",
       "      <td>4.9</td>\n",
       "      <td>2191.0</td>\n",
       "    </tr>\n",
       "    <tr>\n",
       "      <th>118</th>\n",
       "      <td>iPhone 11 Pro Max- Fullset Original Like New -...</td>\n",
       "      <td>9036000.0</td>\n",
       "      <td>GOATS</td>\n",
       "      <td>Jakarta Selatan</td>\n",
       "      <td>5.0</td>\n",
       "      <td>3239.0</td>\n",
       "    </tr>\n",
       "    <tr>\n",
       "      <th>119</th>\n",
       "      <td>iPhone 11 64Gb 128gb second Fullset mulus terawat</td>\n",
       "      <td>5846000.0</td>\n",
       "      <td>apple_shop</td>\n",
       "      <td>Jakarta Utara</td>\n",
       "      <td>4.9</td>\n",
       "      <td>39.0</td>\n",
       "    </tr>\n",
       "  </tbody>\n",
       "</table>\n",
       "<p>100 rows × 6 columns</p>\n",
       "</div>"
      ],
      "text/plain": [
       "                                           Nama_produk       Harga  \\\n",
       "0    iPhone 11 - Fullset Original Like New - Second...   6200000.0   \n",
       "1    iPhone 11 Pro - Fullset Original Like New - Se...   8016000.0   \n",
       "2    iPhone XR - Fullset Original Like New - Second...   4767000.0   \n",
       "3    iPhone 13 - NEW Fullset Original - Inter / Ibo...  15448000.0   \n",
       "4    iPhone 13 Pro Max - NEW Fullset Original - Int...  19154000.0   \n",
       "..                                                 ...         ...   \n",
       "115  iPhone 12 Pro Max- Fullset Original Like New -...  13266000.0   \n",
       "116  iPhone 8 Plus - Fullset Original Like New - Se...   4025000.0   \n",
       "117  iPhone 7 Plus - Fullset Original Like New - Se...   3258000.0   \n",
       "118  iPhone 11 Pro Max- Fullset Original Like New -...   9036000.0   \n",
       "119  iPhone 11 64Gb 128gb second Fullset mulus terawat   5846000.0   \n",
       "\n",
       "      Nama_toko             Kota  Rating_produk  Produk_terjual  \n",
       "0         GOATS  Jakarta Selatan            4.9          2335.0  \n",
       "1         GOATS  Jakarta Selatan            4.9          2417.0  \n",
       "2         GOATS  Jakarta Selatan            4.9          4503.0  \n",
       "3         GOATS  Jakarta Selatan            5.0           752.0  \n",
       "4         GOATS  Jakarta Selatan            5.0           500.0  \n",
       "..          ...              ...            ...             ...  \n",
       "115       GOATS  Jakarta Selatan            5.0          2184.0  \n",
       "116       GOATS  Jakarta Selatan            5.0          2185.0  \n",
       "117       GOATS  Jakarta Selatan            4.9          2191.0  \n",
       "118       GOATS  Jakarta Selatan            5.0          3239.0  \n",
       "119  apple_shop    Jakarta Utara            4.9            39.0  \n",
       "\n",
       "[100 rows x 6 columns]"
      ]
     },
     "execution_count": 9,
     "metadata": {},
     "output_type": "execute_result"
    }
   ],
   "source": [
    "df[df['Nama_produk'].isnull() == False]"
   ]
  },
  {
   "cell_type": "code",
   "execution_count": 10,
   "metadata": {},
   "outputs": [],
   "source": [
    "df.dropna(subset=['Nama_produk'], inplace=True)"
   ]
  },
  {
   "cell_type": "code",
   "execution_count": 11,
   "metadata": {},
   "outputs": [
    {
     "data": {
      "text/html": [
       "<div>\n",
       "<style scoped>\n",
       "    .dataframe tbody tr th:only-of-type {\n",
       "        vertical-align: middle;\n",
       "    }\n",
       "\n",
       "    .dataframe tbody tr th {\n",
       "        vertical-align: top;\n",
       "    }\n",
       "\n",
       "    .dataframe thead th {\n",
       "        text-align: right;\n",
       "    }\n",
       "</style>\n",
       "<table border=\"1\" class=\"dataframe\">\n",
       "  <thead>\n",
       "    <tr style=\"text-align: right;\">\n",
       "      <th></th>\n",
       "      <th>Nama_produk</th>\n",
       "      <th>Harga</th>\n",
       "      <th>Nama_toko</th>\n",
       "      <th>Kota</th>\n",
       "      <th>Rating_produk</th>\n",
       "      <th>Produk_terjual</th>\n",
       "    </tr>\n",
       "  </thead>\n",
       "  <tbody>\n",
       "    <tr>\n",
       "      <th>33</th>\n",
       "      <td>iPhone 11 - New iBox - Original Fullset</td>\n",
       "      <td>7586250.0</td>\n",
       "      <td>GOATS</td>\n",
       "      <td>Jakarta Selatan</td>\n",
       "      <td>NaN</td>\n",
       "      <td>NaN</td>\n",
       "    </tr>\n",
       "    <tr>\n",
       "      <th>103</th>\n",
       "      <td>iPhone 11 - New iBox - Original Fullset</td>\n",
       "      <td>7586250.0</td>\n",
       "      <td>GOATS</td>\n",
       "      <td>Jakarta Selatan</td>\n",
       "      <td>NaN</td>\n",
       "      <td>NaN</td>\n",
       "    </tr>\n",
       "  </tbody>\n",
       "</table>\n",
       "</div>"
      ],
      "text/plain": [
       "                                 Nama_produk      Harga Nama_toko  \\\n",
       "33   iPhone 11 - New iBox - Original Fullset  7586250.0     GOATS   \n",
       "103  iPhone 11 - New iBox - Original Fullset  7586250.0     GOATS   \n",
       "\n",
       "                Kota  Rating_produk  Produk_terjual  \n",
       "33   Jakarta Selatan            NaN             NaN  \n",
       "103  Jakarta Selatan            NaN             NaN  "
      ]
     },
     "execution_count": 11,
     "metadata": {},
     "output_type": "execute_result"
    }
   ],
   "source": [
    "df.loc[df['Rating_produk'].isnull() == True]"
   ]
  },
  {
   "cell_type": "code",
   "execution_count": 17,
   "metadata": {},
   "outputs": [
    {
     "data": {
      "text/plain": [
       "Nama_produk        object\n",
       "Harga             float64\n",
       "Nama_toko          object\n",
       "Kota               object\n",
       "Rating_produk     float64\n",
       "Produk_terjual    float64\n",
       "dtype: object"
      ]
     },
     "execution_count": 17,
     "metadata": {},
     "output_type": "execute_result"
    }
   ],
   "source": [
    "df.dtypes"
   ]
  }
 ],
 "metadata": {
  "kernelspec": {
   "display_name": "Python 3.9.6 64-bit",
   "language": "python",
   "name": "python3"
  },
  "language_info": {
   "codemirror_mode": {
    "name": "ipython",
    "version": 3
   },
   "file_extension": ".py",
   "mimetype": "text/x-python",
   "name": "python",
   "nbconvert_exporter": "python",
   "pygments_lexer": "ipython3",
   "version": "3.9.6"
  },
  "orig_nbformat": 4,
  "vscode": {
   "interpreter": {
    "hash": "28adcaec2f25847d4c7069ef098a14805f4e234a81e1b7255360f72e13f2a6b7"
   }
  }
 },
 "nbformat": 4,
 "nbformat_minor": 2
}
